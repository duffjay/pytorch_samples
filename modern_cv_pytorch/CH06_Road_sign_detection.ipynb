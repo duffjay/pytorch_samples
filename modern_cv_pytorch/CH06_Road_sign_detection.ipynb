{
 "cells": [
  {
   "cell_type": "markdown",
   "metadata": {
    "colab_type": "text",
    "id": "view-in-github"
   },
   "source": [
    "<a href=\"https://colab.research.google.com/github/PacktPublishing/Hands-On-Computer-Vision-with-PyTorch/blob/master/Chapter06/Road_sign_detection.ipynb\" target=\"_parent\"><img src=\"https://colab.research.google.com/assets/colab-badge.svg\" alt=\"Open In Colab\"/></a>"
   ]
  },
  {
   "cell_type": "markdown",
   "metadata": {},
   "source": [
    "# Chapter 6 - Road Sign Detection\n",
    "- torch_snippets is a package of utilities to clean up the code from redundant stuff; written by the book authors (?)\n",
    "- GTSRB sign database\n",
    "\n",
    "Book Location 4768\n",
    "\n",
    "Summary chart on Location 4853, shows impact of Augmentation & Batch-Norm on ths training job.  \n"
   ]
  },
  {
   "cell_type": "code",
   "execution_count": 1,
   "metadata": {
    "colab": {
     "base_uri": "https://localhost:8080/",
     "height": 276
    },
    "id": "LFTmB5VM1rp6",
    "outputId": "26c5428d-c367-4515-d666-9d8d6df4aedd"
   },
   "outputs": [
    {
     "name": "stdout",
     "output_type": "stream",
     "text": [
      "\u001b[33mWARNING: You are using pip version 20.0.2; however, version 20.3.1 is available.\n",
      "You should consider upgrading via the '/home/ec2-user/anaconda3/envs/pytorch_p36/bin/python -m pip install --upgrade pip' command.\u001b[0m\n",
      "--2020-12-14 21:37:28--  https://raw.githubusercontent.com/georgesung/traffic_sign_classification_german/master/signnames.csv\n",
      "Resolving raw.githubusercontent.com (raw.githubusercontent.com)... 199.232.64.133\n",
      "Connecting to raw.githubusercontent.com (raw.githubusercontent.com)|199.232.64.133|:443... connected.\n",
      "HTTP request sent, awaiting response... 200 OK\n",
      "Length: 999 [text/plain]\n",
      "Saving to: ‘signnames.csv’\n",
      "\n",
      "signnames.csv       100%[===================>]     999  --.-KB/s    in 0s      \n",
      "\n",
      "2020-12-14 21:37:28 (63.1 MB/s) - ‘signnames.csv’ saved [999/999]\n",
      "\n"
     ]
    }
   ],
   "source": [
    "import os\n",
    "if not os.path.exists('GTSRB'):\n",
    "    !pip install -U -q torch_snippets\n",
    "    !wget -qq https://sid.erda.dk/public/archives/daaeac0d7ce1152aea9b61d9f1e19370/GTSRB_Final_Training_Images.zip\n",
    "    !wget -qq https://sid.erda.dk/public/archives/daaeac0d7ce1152aea9b61d9f1e19370/GTSRB_Final_Test_Images.zip\n",
    "    !unzip -qq GTSRB_Final_Training_Images.zip\n",
    "    !unzip -qq GTSRB_Final_Test_Images.zip\n",
    "    !wget https://raw.githubusercontent.com/georgesung/traffic_sign_classification_german/master/signnames.csv\n",
    "    !rm GTSRB_Final_Training_Images.zip GTSRB_Final_Test_Images.zip\n",
    "    "
   ]
  },
  {
   "cell_type": "markdown",
   "metadata": {},
   "source": [
    "## Run 1\n",
    "- transformation pipeline WITHOUT augmentation\n",
    "- COMMENTED OUT - BatchNorm2d - BatchNorm2d (no)\n",
    "\n",
    "location 4812  summary chart @ location 4853  \n",
    "\n",
    "Augmentation = no  \n",
    "Batch-Norm = no  \n"
   ]
  },
  {
   "cell_type": "code",
   "execution_count": 2,
   "metadata": {
    "colab": {
     "base_uri": "https://localhost:8080/",
     "height": 121
    },
    "id": "7a8ctbvs0jEp",
    "outputId": "c8024cc6-342b-41bc-c1f2-537b4894cd2e"
   },
   "outputs": [
    {
     "name": "stderr",
     "output_type": "stream",
     "text": [
      "2020-12-14 21:44:23.192 | INFO     | torch_snippets.loader:Glob:190 - 39209 files found at GTSRB/Final_Training/Images/*/*.ppm\n",
      "2020-12-14 21:44:25.422 | INFO     | __main__:__init__:46 - 29406\n",
      "2020-12-14 21:44:25.423 | INFO     | __main__:__init__:46 - 9803\n"
     ]
    },
    {
     "name": "stdout",
     "output_type": "stream",
     "text": [
      "EPOCH: 1.000\ttrn_loss: 2.285\ttrn_acc: 0.329\tval_loss: 1.360\tval_acc: 0.559\t(23.68s - 923.50s remaining)\n",
      "EPOCH: 2.000\ttrn_loss: 1.000\ttrn_acc: 0.671\tval_loss: 0.848\tval_acc: 0.728\t(45.34s - 861.39s remaining)\n",
      "EPOCH: 3.000\ttrn_loss: 0.679\ttrn_acc: 0.779\tval_loss: 0.667\tval_acc: 0.785\t(66.95s - 825.69s remaining)\n",
      "EPOCH: 4.000\ttrn_loss: 0.555\ttrn_acc: 0.816\tval_loss: 0.597\tval_acc: 0.803\t(88.70s - 798.31s remaining)\n",
      "EPOCH: 5.000\ttrn_loss: 0.470\ttrn_acc: 0.845\tval_loss: 0.502\tval_acc: 0.845\t(110.44s - 773.08s remaining)\n",
      "EPOCH: 6.000\ttrn_loss: 0.425\ttrn_acc: 0.861\tval_loss: 0.452\tval_acc: 0.853\t(132.30s - 749.68s remaining)\n",
      "EPOCH: 7.000\ttrn_loss: 0.389\ttrn_acc: 0.874\tval_loss: 0.457\tval_acc: 0.848\t(154.04s - 726.18s remaining)\n",
      "EPOCH: 8.000\ttrn_loss: 0.364\ttrn_acc: 0.884\tval_loss: 0.362\tval_acc: 0.884\t(175.70s - 702.79s remaining)\n",
      "EPOCH: 9.000\ttrn_loss: 0.339\ttrn_acc: 0.890\tval_loss: 0.370\tval_acc: 0.882\t(197.47s - 680.17s remaining)\n",
      "EPOCH: 10.000\ttrn_loss: 0.325\ttrn_acc: 0.893\tval_loss: 0.414\tval_acc: 0.871\t(219.14s - 657.43s remaining)\n",
      "EPOCH: 11.000\ttrn_loss: 0.318\ttrn_acc: 0.898\tval_loss: 0.325\tval_acc: 0.898\t(240.91s - 635.13s remaining)\n",
      "EPOCH: 12.000\ttrn_loss: 0.217\ttrn_acc: 0.929\tval_loss: 0.232\tval_acc: 0.923\t(262.76s - 613.10s remaining)\n",
      "EPOCH: 13.000\ttrn_loss: 0.189\ttrn_acc: 0.937\tval_loss: 0.226\tval_acc: 0.926\t(284.67s - 591.25s remaining)\n",
      "EPOCH: 14.000\ttrn_loss: 0.176\ttrn_acc: 0.943\tval_loss: 0.225\tval_acc: 0.928\t(306.62s - 569.44s remaining)\n",
      "EPOCH: 15.000\ttrn_loss: 0.171\ttrn_acc: 0.944\tval_loss: 0.215\tval_acc: 0.931\t(328.34s - 547.23s remaining)\n",
      "EPOCH: 16.000\ttrn_loss: 0.164\ttrn_acc: 0.945\tval_loss: 0.219\tval_acc: 0.932\t(350.16s - 525.24s remaining)\n",
      "EPOCH: 17.000\ttrn_loss: 0.161\ttrn_acc: 0.947\tval_loss: 0.205\tval_acc: 0.934\t(371.96s - 503.24s remaining)\n",
      "EPOCH: 18.000\ttrn_loss: 0.157\ttrn_acc: 0.947\tval_loss: 0.205\tval_acc: 0.931\t(393.62s - 481.09s remaining)\n",
      "EPOCH: 19.000\ttrn_loss: 0.148\ttrn_acc: 0.950\tval_loss: 0.208\tval_acc: 0.933\t(415.41s - 459.14s remaining)\n",
      "EPOCH: 20.000\ttrn_loss: 0.153\ttrn_acc: 0.949\tval_loss: 0.209\tval_acc: 0.936\t(437.19s - 437.19s remaining)\n",
      "EPOCH: 21.000\ttrn_loss: 0.150\ttrn_acc: 0.950\tval_loss: 0.194\tval_acc: 0.937\t(459.12s - 415.40s remaining)\n",
      "EPOCH: 22.000\ttrn_loss: 0.143\ttrn_acc: 0.952\tval_loss: 0.185\tval_acc: 0.941\t(481.03s - 393.57s remaining)\n",
      "EPOCH: 23.000\ttrn_loss: 0.141\ttrn_acc: 0.952\tval_loss: 0.197\tval_acc: 0.939\t(502.98s - 371.77s remaining)\n",
      "EPOCH: 24.000\ttrn_loss: 0.141\ttrn_acc: 0.953\tval_loss: 0.179\tval_acc: 0.943\t(524.92s - 349.95s remaining)\n",
      "EPOCH: 25.000\ttrn_loss: 0.140\ttrn_acc: 0.952\tval_loss: 0.190\tval_acc: 0.939\t(546.72s - 328.03s remaining)\n",
      "EPOCH: 26.000\ttrn_loss: 0.133\ttrn_acc: 0.956\tval_loss: 0.180\tval_acc: 0.943\t(568.48s - 306.11s remaining)\n",
      "EPOCH: 27.000\ttrn_loss: 0.133\ttrn_acc: 0.955\tval_loss: 0.179\tval_acc: 0.941\t(590.26s - 284.20s remaining)\n",
      "EPOCH: 28.000\ttrn_loss: 0.132\ttrn_acc: 0.956\tval_loss: 0.173\tval_acc: 0.947\t(612.22s - 262.38s remaining)\n",
      "EPOCH: 29.000\ttrn_loss: 0.126\ttrn_acc: 0.958\tval_loss: 0.178\tval_acc: 0.944\t(634.13s - 240.53s remaining)\n",
      "EPOCH: 30.000\ttrn_loss: 0.126\ttrn_acc: 0.958\tval_loss: 0.176\tval_acc: 0.946\t(655.93s - 218.64s remaining)\n",
      "EPOCH: 31.000\ttrn_loss: 0.122\ttrn_acc: 0.958\tval_loss: 0.166\tval_acc: 0.944\t(678.11s - 196.87s remaining)\n",
      "EPOCH: 32.000\ttrn_loss: 0.120\ttrn_acc: 0.958\tval_loss: 0.175\tval_acc: 0.944\t(699.97s - 174.99s remaining)\n",
      "EPOCH: 33.000\ttrn_loss: 0.125\ttrn_acc: 0.958\tval_loss: 0.174\tval_acc: 0.947\t(721.81s - 153.11s remaining)\n",
      "EPOCH: 34.000\ttrn_loss: 0.119\ttrn_acc: 0.960\tval_loss: 0.162\tval_acc: 0.947\t(743.58s - 131.22s remaining)\n",
      "EPOCH: 35.000\ttrn_loss: 0.114\ttrn_acc: 0.961\tval_loss: 0.158\tval_acc: 0.951\t(765.43s - 109.35s remaining)\n",
      "EPOCH: 36.000\ttrn_loss: 0.117\ttrn_acc: 0.961\tval_loss: 0.165\tval_acc: 0.946\t(787.23s - 87.47s remaining)\n",
      "EPOCH: 37.000\ttrn_loss: 0.113\ttrn_acc: 0.961\tval_loss: 0.160\tval_acc: 0.949\t(808.91s - 65.59s remaining)\n",
      "EPOCH: 38.000\ttrn_loss: 0.113\ttrn_acc: 0.962\tval_loss: 0.160\tval_acc: 0.949\t(830.74s - 43.72s remaining)\n",
      "EPOCH: 39.000\ttrn_loss: 0.112\ttrn_acc: 0.963\tval_loss: 0.156\tval_acc: 0.949\t(852.89s - 21.87s remaining)\n",
      "EPOCH: 40.000\tval_loss: 0.045\tval_acc: 1.000\t(874.80s - 0.00s remaining))"
     ]
    },
    {
     "name": "stderr",
     "output_type": "stream",
     "text": [
      "  0%|          | 0/41 [00:00<?, ?it/s]/home/ec2-user/anaconda3/envs/pytorch_p36/lib/python3.6/site-packages/numpy/core/fromnumeric.py:3335: RuntimeWarning: Mean of empty slice.\n",
      "  out=out, **kwargs)\n",
      "/home/ec2-user/anaconda3/envs/pytorch_p36/lib/python3.6/site-packages/numpy/core/_methods.py:161: RuntimeWarning: invalid value encountered in double_scalars\n",
      "  ret = ret.dtype.type(ret / rcount)\n",
      " 37%|███▋      | 15/41 [00:00<00:00, 143.50it/s]"
     ]
    },
    {
     "name": "stdout",
     "output_type": "stream",
     "text": [
      "EPOCH: 40.000\ttrn_loss: 0.111\ttrn_acc: 0.962\tval_loss: 0.147\tval_acc: 0.952\t(874.82s - 0.00s remaining)\n"
     ]
    },
    {
     "name": "stderr",
     "output_type": "stream",
     "text": [
      "100%|██████████| 41/41 [00:00<00:00, 77.85it/s] \n"
     ]
    },
    {
     "data": {
      "image/png": "[encoded data removed]",
      "text/plain": [
       "<Figure size 576x432 with 1 Axes>"
      ]
     },
     "metadata": {
      "needs_background": "light"
     },
     "output_type": "display_data"
    },
    {
     "name": "stderr",
     "output_type": "stream",
     "text": [
      "2020-12-14 21:59:05.259 | INFO     | torch_snippets.loader:dumpdill:324 - Dumped object @ no-aug-no-bn.log\n"
     ]
    }
   ],
   "source": [
    "from torch_snippets import *\n",
    "classIds = pd.read_csv('signnames.csv')\n",
    "classIds.set_index('ClassId', inplace=True)\n",
    "classIds = classIds.to_dict()['SignName']\n",
    "classIds = {f'{k:05d}':v for k,v in classIds.items()}\n",
    "id2int = {v:ix for ix,(k,v) in enumerate(classIds.items())}\n",
    "\n",
    "from torchvision import transforms as T\n",
    "classIds = pd.read_csv('signnames.csv')\n",
    "classIds.set_index('ClassId', inplace=True)\n",
    "classIds = classIds.to_dict()['SignName']\n",
    "classIds = {f'{k:05d}':v for k,v in classIds.items()}\n",
    "id2int = {v:ix for ix,(k,v) in enumerate(classIds.items())}\n",
    "\n",
    "from torchvision import transforms as T\n",
    "\n",
    "trn_tfms = T.Compose([\n",
    "    T.ToPILImage(),\n",
    "    T.Resize(32),\n",
    "    T.CenterCrop(32),\n",
    "    # T.ColorJitter(brightness=(0.8,1.2), \n",
    "    # contrast=(0.8,1.2), \n",
    "    # saturation=(0.8,1.2), \n",
    "    # hue=0.25),\n",
    "    # T.RandomAffine(5, translate=(0.01,0.1)),\n",
    "    T.ToTensor(),\n",
    "    T.Normalize(mean=[0.485, 0.456, 0.406], \n",
    "                std=[0.229, 0.224, 0.225]),\n",
    "])\n",
    "\n",
    "val_tfms = T.Compose([\n",
    "    T.ToPILImage(),\n",
    "    T.Resize(32),\n",
    "    T.CenterCrop(32),\n",
    "    T.ToTensor(),\n",
    "    T.Normalize(mean=[0.485, 0.456, 0.406], \n",
    "                std=[0.229, 0.224, 0.225]),\n",
    "])\n",
    "\n",
    "class GTSRB(Dataset):\n",
    "    \"\"\"Face Landmarks dataset.\"\"\"\n",
    "\n",
    "    def __init__(self, files, transform=None):\n",
    "        self.files = files\n",
    "        self.transform = transform\n",
    "        logger.info(len(self))\n",
    "\n",
    "    def __len__(self):\n",
    "        return len(self.files)\n",
    "\n",
    "    def __getitem__(self, ix):\n",
    "        fpath = self.files[ix]\n",
    "        clss = fname(parent(fpath))\n",
    "        img = read(fpath, 1)\n",
    "        return img, classIds[clss]\n",
    "\n",
    "    def choose(self):\n",
    "        return self[randint(len(self))]\n",
    "\n",
    "    def collate_fn(self, batch):\n",
    "        imgs, classes = list(zip(*batch))\n",
    "        if self.transform:\n",
    "            imgs = [self.transform(img)[None] for img in imgs]\n",
    "        classes = [torch.tensor([id2int[clss]]) for clss in classes]\n",
    "        imgs, classes = [torch.cat(i).to(device) for i in [imgs, classes]]\n",
    "        return imgs, classes\n",
    "\n",
    "device = 'cuda' if torch.cuda.is_available() else 'cpu'\n",
    "all_files = Glob('GTSRB/Final_Training/Images/*/*.ppm')\n",
    "np.random.seed(10)\n",
    "np.random.shuffle(all_files)\n",
    "\n",
    "from sklearn.model_selection import train_test_split\n",
    "trn_files, val_files = train_test_split(all_files, random_state=1)\n",
    "\n",
    "trn_ds = GTSRB(trn_files, transform=trn_tfms)\n",
    "val_ds = GTSRB(val_files, transform=val_tfms)\n",
    "trn_dl = DataLoader(trn_ds, 32, shuffle=True, collate_fn=trn_ds.collate_fn)\n",
    "val_dl = DataLoader(val_ds, 32, shuffle=False, collate_fn=val_ds.collate_fn)\n",
    "\n",
    "import torchvision.models as models\n",
    "\n",
    "def convBlock(ni, no):\n",
    "    return nn.Sequential(\n",
    "        nn.Dropout(0.2),\n",
    "        nn.Conv2d(ni, no, kernel_size=3, padding=1),\n",
    "        nn.ReLU(inplace=True),\n",
    "        #nn.BatchNorm2d(no),\n",
    "        nn.MaxPool2d(2),\n",
    "    )\n",
    "    \n",
    "class SignClassifier(nn.Module):\n",
    "    def __init__(self):\n",
    "        super().__init__()\n",
    "        self.model = nn.Sequential(\n",
    "            convBlock(3, 64),\n",
    "            convBlock(64, 64),\n",
    "            convBlock(64, 128),\n",
    "            convBlock(128, 64),\n",
    "            nn.Flatten(),\n",
    "            nn.Linear(256, 256),\n",
    "            nn.Dropout(0.2),\n",
    "            nn.ReLU(inplace=True),\n",
    "            nn.Linear(256, len(id2int))\n",
    "        )\n",
    "        self.loss_fn = nn.CrossEntropyLoss()\n",
    "\n",
    "    def forward(self, x):\n",
    "        return self.model(x)\n",
    "\n",
    "    def compute_metrics(self, preds, targets):\n",
    "        ce_loss = self.loss_fn(preds, targets)\n",
    "        acc = (torch.max(preds, 1)[1] == targets).float().mean()\n",
    "        return ce_loss, acc\n",
    "def train_batch(model, data, optimizer, criterion):\n",
    "    ims, labels = data\n",
    "    _preds = model(ims)\n",
    "    optimizer.zero_grad()\n",
    "    loss, acc = criterion(_preds, labels)\n",
    "    loss.backward()\n",
    "    optimizer.step()\n",
    "    return loss.item(), acc.item()\n",
    "\n",
    "@torch.no_grad()\n",
    "def validate_batch(model, data, criterion):\n",
    "    ims, labels = data\n",
    "    _preds = model(ims)\n",
    "    loss, acc = criterion(_preds, labels)\n",
    "    return loss.item(), acc.item()\n",
    "model = SignClassifier().to(device)\n",
    "criterion = model.compute_metrics\n",
    "optimizer = optim.Adam(model.parameters(), lr=1e-3)\n",
    "n_epochs = 40\n",
    "\n",
    "log = Report(n_epochs)\n",
    "for ex in range(n_epochs):\n",
    "    N = len(trn_dl)\n",
    "    for bx, data in enumerate(trn_dl):\n",
    "        loss, acc = train_batch(model, data, optimizer, criterion)\n",
    "        log.record(ex+(bx+1)/N, trn_loss=loss, trn_acc=acc, end='\\r')\n",
    "\n",
    "    N = len(val_dl)\n",
    "    for bx, data in enumerate(val_dl):\n",
    "        loss, acc = validate_batch(model, data, criterion)\n",
    "        log.record(ex+(bx+1)/N, val_loss=loss, val_acc=acc, end='\\r')\n",
    "        \n",
    "    log.report_avgs(ex+1)\n",
    "    if ex == 10: optimizer = optim.Adam(model.parameters(), lr=1e-4)\n",
    "\n",
    "log.plot_epochs()\n",
    "dumpdill(log, 'no-aug-no-bn.log')"
   ]
  },
  {
   "cell_type": "code",
   "execution_count": 8,
   "metadata": {},
   "outputs": [
    {
     "name": "stdout",
     "output_type": "stream",
     "text": [
      "<class 'numpy.ndarray'>\n",
      "Children crossing\n"
     ]
    },
    {
     "data": {
      "image/png": "[encoded data removed]",
      "text/plain": [
       "<Figure size 432x288 with 1 Axes>"
      ]
     },
     "metadata": {
      "needs_background": "light"
     },
     "output_type": "display_data"
    }
   ],
   "source": [
    "im, label = trn_ds[10]\n",
    "print (type(im))\n",
    "plt.imshow(im)\n",
    "print (label)"
   ]
  },
  {
   "cell_type": "markdown",
   "metadata": {},
   "source": [
    "# Run 2\n",
    "\n",
    "## convBlock\n",
    "\n",
    "- batchNorm2d(no)\n",
    "\n",
    "Augmentation = no    \n",
    "Batch-Norm = yes  "
   ]
  },
  {
   "cell_type": "code",
   "execution_count": 9,
   "metadata": {
    "id": "jcW7H6v63Zp_"
   },
   "outputs": [
    {
     "name": "stderr",
     "output_type": "stream",
     "text": [
      "2020-12-14 22:12:07.880 | INFO     | torch_snippets.loader:Glob:190 - 39209 files found at GTSRB/Final_Training/Images/*/*.ppm\n",
      "2020-12-14 22:12:07.893 | INFO     | __main__:__init__:46 - 29406\n",
      "2020-12-14 22:12:07.894 | INFO     | __main__:__init__:46 - 9803\n"
     ]
    },
    {
     "name": "stdout",
     "output_type": "stream",
     "text": [
      "EPOCH: 1.000\ttrn_loss: 1.338\ttrn_acc: 0.601\tval_loss: 0.560\tval_acc: 0.820\t(23.86s - 930.61s remaining)\n",
      "EPOCH: 2.000\ttrn_loss: 0.428\ttrn_acc: 0.861\tval_loss: 0.373\tval_acc: 0.881\t(47.88s - 909.77s remaining)\n",
      "EPOCH: 3.000\ttrn_loss: 0.290\ttrn_acc: 0.903\tval_loss: 0.269\tval_acc: 0.911\t(71.94s - 887.30s remaining)\n",
      "EPOCH: 4.000\ttrn_loss: 0.227\ttrn_acc: 0.924\tval_loss: 0.224\tval_acc: 0.927\t(96.13s - 865.13s remaining)\n",
      "EPOCH: 5.000\ttrn_loss: 0.191\ttrn_acc: 0.936\tval_loss: 0.207\tval_acc: 0.934\t(120.18s - 841.26s remaining)\n",
      "EPOCH: 6.000\ttrn_loss: 0.174\ttrn_acc: 0.943\tval_loss: 0.181\tval_acc: 0.942\t(144.26s - 817.50s remaining)\n",
      "EPOCH: 7.000\ttrn_loss: 0.149\ttrn_acc: 0.951\tval_loss: 0.165\tval_acc: 0.947\t(168.27s - 793.28s remaining)\n",
      "EPOCH: 8.000\ttrn_loss: 0.140\ttrn_acc: 0.954\tval_loss: 0.172\tval_acc: 0.946\t(192.38s - 769.51s remaining)\n",
      "EPOCH: 9.000\ttrn_loss: 0.126\ttrn_acc: 0.958\tval_loss: 0.159\tval_acc: 0.948\t(216.38s - 745.31s remaining)\n",
      "EPOCH: 10.000\ttrn_loss: 0.120\ttrn_acc: 0.960\tval_loss: 0.140\tval_acc: 0.954\t(240.44s - 721.32s remaining)\n",
      "EPOCH: 11.000\ttrn_loss: 0.108\ttrn_acc: 0.964\tval_loss: 0.136\tval_acc: 0.959\t(264.54s - 697.42s remaining)\n",
      "EPOCH: 12.000\ttrn_loss: 0.065\ttrn_acc: 0.978\tval_loss: 0.092\tval_acc: 0.972\t(288.49s - 673.15s remaining)\n",
      "EPOCH: 13.000\ttrn_loss: 0.050\ttrn_acc: 0.984\tval_loss: 0.081\tval_acc: 0.974\t(312.46s - 648.95s remaining)\n",
      "EPOCH: 14.000\ttrn_loss: 0.046\ttrn_acc: 0.985\tval_loss: 0.077\tval_acc: 0.975\t(336.50s - 624.93s remaining)\n",
      "EPOCH: 15.000\ttrn_loss: 0.043\ttrn_acc: 0.986\tval_loss: 0.072\tval_acc: 0.976\t(360.54s - 600.89s remaining)\n",
      "EPOCH: 16.000\ttrn_loss: 0.039\ttrn_acc: 0.987\tval_loss: 0.072\tval_acc: 0.977\t(384.54s - 576.80s remaining)\n",
      "EPOCH: 17.000\ttrn_loss: 0.039\ttrn_acc: 0.987\tval_loss: 0.065\tval_acc: 0.977\t(408.48s - 552.65s remaining)\n",
      "EPOCH: 18.000\ttrn_loss: 0.036\ttrn_acc: 0.987\tval_loss: 0.067\tval_acc: 0.981\t(432.53s - 528.65s remaining)\n",
      "EPOCH: 19.000\ttrn_loss: 0.033\ttrn_acc: 0.989\tval_loss: 0.073\tval_acc: 0.977\t(456.55s - 504.61s remaining)\n",
      "EPOCH: 20.000\ttrn_loss: 0.033\ttrn_acc: 0.989\tval_loss: 0.059\tval_acc: 0.982\t(480.53s - 480.53s remaining)\n",
      "EPOCH: 21.000\ttrn_loss: 0.031\ttrn_acc: 0.989\tval_loss: 0.062\tval_acc: 0.981\t(504.54s - 456.49s remaining)\n",
      "EPOCH: 22.000\ttrn_loss: 0.029\ttrn_acc: 0.990\tval_loss: 0.062\tval_acc: 0.980\t(528.69s - 432.57s remaining)\n",
      "EPOCH: 23.000\ttrn_loss: 0.028\ttrn_acc: 0.990\tval_loss: 0.061\tval_acc: 0.980\t(552.92s - 408.68s remaining)\n",
      "EPOCH: 24.000\ttrn_loss: 0.028\ttrn_acc: 0.991\tval_loss: 0.064\tval_acc: 0.981\t(576.87s - 384.58s remaining)\n",
      "EPOCH: 25.000\ttrn_loss: 0.025\ttrn_acc: 0.991\tval_loss: 0.065\tval_acc: 0.979\t(600.83s - 360.50s remaining)\n",
      "EPOCH: 26.000\ttrn_loss: 0.025\ttrn_acc: 0.992\tval_loss: 0.057\tval_acc: 0.983\t(624.93s - 336.50s remaining)\n",
      "EPOCH: 27.000\ttrn_loss: 0.027\ttrn_acc: 0.990\tval_loss: 0.058\tval_acc: 0.981\t(648.92s - 312.44s remaining)\n",
      "EPOCH: 28.000\ttrn_loss: 0.023\ttrn_acc: 0.992\tval_loss: 0.059\tval_acc: 0.982\t(673.06s - 288.45s remaining)\n",
      "EPOCH: 29.000\ttrn_loss: 0.022\ttrn_acc: 0.992\tval_loss: 0.062\tval_acc: 0.981\t(697.10s - 264.42s remaining)\n",
      "EPOCH: 30.000\ttrn_loss: 0.023\ttrn_acc: 0.992\tval_loss: 0.055\tval_acc: 0.982\t(721.15s - 240.38s remaining)\n",
      "EPOCH: 31.000\ttrn_loss: 0.024\ttrn_acc: 0.992\tval_loss: 0.057\tval_acc: 0.982\t(745.14s - 216.33s remaining)\n",
      "EPOCH: 32.000\ttrn_loss: 0.021\ttrn_acc: 0.993\tval_loss: 0.056\tval_acc: 0.983\t(769.18s - 192.30s remaining)\n",
      "EPOCH: 33.000\ttrn_loss: 0.023\ttrn_acc: 0.992\tval_loss: 0.058\tval_acc: 0.985\t(793.03s - 168.22s remaining)\n",
      "EPOCH: 34.000\ttrn_loss: 0.024\ttrn_acc: 0.993\tval_loss: 0.052\tval_acc: 0.985\t(817.42s - 144.25s remaining)\n",
      "EPOCH: 35.000\ttrn_loss: 0.021\ttrn_acc: 0.993\tval_loss: 0.057\tval_acc: 0.984\t(841.46s - 120.21s remaining)\n",
      "EPOCH: 36.000\ttrn_loss: 0.019\ttrn_acc: 0.994\tval_loss: 0.055\tval_acc: 0.984\t(865.42s - 96.16s remaining)\n",
      "EPOCH: 37.000\ttrn_loss: 0.020\ttrn_acc: 0.993\tval_loss: 0.052\tval_acc: 0.984\t(889.44s - 72.12s remaining)\n",
      "EPOCH: 38.000\ttrn_loss: 0.020\ttrn_acc: 0.994\tval_loss: 0.055\tval_acc: 0.985\t(913.66s - 48.09s remaining)\n",
      "EPOCH: 39.000\ttrn_loss: 0.018\ttrn_acc: 0.994\tval_loss: 0.052\tval_acc: 0.984\t(937.67s - 24.04s remaining)\n",
      "EPOCH: 39.971\tval_loss: 0.109\tval_acc: 0.938\t(961.56s - 0.71s remaining))"
     ]
    },
    {
     "name": "stderr",
     "output_type": "stream",
     "text": [
      "  0%|          | 0/41 [00:00<?, ?it/s]"
     ]
    },
    {
     "name": "stdout",
     "output_type": "stream",
     "text": [
      "EPOCH: 40.000\ttrn_loss: 0.019\ttrn_acc: 0.994\tval_loss: 0.052\tval_acc: 0.984\t(961.71s - 0.00s remaining)\n"
     ]
    },
    {
     "name": "stderr",
     "output_type": "stream",
     "text": [
      "/home/ec2-user/anaconda3/envs/pytorch_p36/lib/python3.6/site-packages/numpy/core/fromnumeric.py:3335: RuntimeWarning: Mean of empty slice.\n",
      "  out=out, **kwargs)\n",
      "/home/ec2-user/anaconda3/envs/pytorch_p36/lib/python3.6/site-packages/numpy/core/_methods.py:161: RuntimeWarning: invalid value encountered in double_scalars\n",
      "  ret = ret.dtype.type(ret / rcount)\n",
      "100%|██████████| 41/41 [00:00<00:00, 78.10it/s] \n"
     ]
    },
    {
     "data": {
      "image/png": "[encoded data removed]",
      "text/plain": [
       "<Figure size 576x432 with 1 Axes>"
      ]
     },
     "metadata": {
      "needs_background": "light"
     },
     "output_type": "display_data"
    },
    {
     "name": "stderr",
     "output_type": "stream",
     "text": [
      "2020-12-14 22:28:12.309 | INFO     | torch_snippets.loader:dumpdill:324 - Dumped object @ no-aug-yes-bn.log\n"
     ]
    }
   ],
   "source": [
    "from torch_snippets import *\n",
    "classIds = pd.read_csv('signnames.csv')\n",
    "classIds.set_index('ClassId', inplace=True)\n",
    "classIds = classIds.to_dict()['SignName']\n",
    "classIds = {f'{k:05d}':v for k,v in classIds.items()}\n",
    "id2int = {v:ix for ix,(k,v) in enumerate(classIds.items())}\n",
    "\n",
    "from torchvision import transforms as T\n",
    "classIds = pd.read_csv('signnames.csv')\n",
    "classIds.set_index('ClassId', inplace=True)\n",
    "classIds = classIds.to_dict()['SignName']\n",
    "classIds = {f'{k:05d}':v for k,v in classIds.items()}\n",
    "id2int = {v:ix for ix,(k,v) in enumerate(classIds.items())}\n",
    "\n",
    "from torchvision import transforms as T\n",
    "\n",
    "trn_tfms = T.Compose([\n",
    "    T.ToPILImage(),\n",
    "    T.Resize(32),\n",
    "    T.CenterCrop(32),\n",
    "    # T.ColorJitter(brightness=(0.8,1.2), \n",
    "    # contrast=(0.8,1.2), \n",
    "    # saturation=(0.8,1.2), \n",
    "    # hue=0.25),\n",
    "    # T.RandomAffine(5, translate=(0.01,0.1)),\n",
    "    T.ToTensor(),\n",
    "    T.Normalize(mean=[0.485, 0.456, 0.406], \n",
    "                std=[0.229, 0.224, 0.225]),\n",
    "])\n",
    "\n",
    "val_tfms = T.Compose([\n",
    "    T.ToPILImage(),\n",
    "    T.Resize(32),\n",
    "    T.CenterCrop(32),\n",
    "    T.ToTensor(),\n",
    "    T.Normalize(mean=[0.485, 0.456, 0.406], \n",
    "                std=[0.229, 0.224, 0.225]),\n",
    "])\n",
    "\n",
    "class GTSRB(Dataset):\n",
    "    \"\"\"Face Landmarks dataset.\"\"\"\n",
    "\n",
    "    def __init__(self, files, transform=None):\n",
    "        self.files = files\n",
    "        self.transform = transform\n",
    "        logger.info(len(self))\n",
    "\n",
    "    def __len__(self):\n",
    "        return len(self.files)\n",
    "\n",
    "    def __getitem__(self, ix):\n",
    "        fpath = self.files[ix]\n",
    "        clss = fname(parent(fpath))\n",
    "        img = read(fpath, 1)\n",
    "        return img, classIds[clss]\n",
    "\n",
    "    def choose(self):\n",
    "        return self[randint(len(self))]\n",
    "\n",
    "    def collate_fn(self, batch):\n",
    "        imgs, classes = list(zip(*batch))\n",
    "        if self.transform:\n",
    "            imgs = [self.transform(img)[None] for img in imgs]\n",
    "        classes = [torch.tensor([id2int[clss]]) for clss in classes]\n",
    "        imgs, classes = [torch.cat(i).to(device) for i in [imgs, classes]]\n",
    "        return imgs, classes\n",
    "\n",
    "device = 'cuda' if torch.cuda.is_available() else 'cpu'\n",
    "all_files = Glob('GTSRB/Final_Training/Images/*/*.ppm')\n",
    "np.random.seed(10)\n",
    "np.random.shuffle(all_files)\n",
    "\n",
    "from sklearn.model_selection import train_test_split\n",
    "trn_files, val_files = train_test_split(all_files, random_state=1)\n",
    "\n",
    "trn_ds = GTSRB(trn_files, transform=trn_tfms)\n",
    "val_ds = GTSRB(val_files, transform=val_tfms)\n",
    "trn_dl = DataLoader(trn_ds, 32, shuffle=True, collate_fn=trn_ds.collate_fn)\n",
    "val_dl = DataLoader(val_ds, 32, shuffle=False, collate_fn=val_ds.collate_fn)\n",
    "\n",
    "import torchvision.models as models\n",
    "\n",
    "def convBlock(ni, no):\n",
    "    return nn.Sequential(\n",
    "        nn.Dropout(0.2),\n",
    "        nn.Conv2d(ni, no, kernel_size=3, padding=1),\n",
    "        nn.ReLU(inplace=True),\n",
    "        nn.BatchNorm2d(no),\n",
    "        nn.MaxPool2d(2),\n",
    "    )\n",
    "    \n",
    "class SignClassifier(nn.Module):\n",
    "    def __init__(self):\n",
    "        super().__init__()\n",
    "        self.model = nn.Sequential(\n",
    "            convBlock(3, 64),\n",
    "            convBlock(64, 64),\n",
    "            convBlock(64, 128),\n",
    "            convBlock(128, 64),\n",
    "            nn.Flatten(),\n",
    "            nn.Linear(256, 256),\n",
    "            nn.Dropout(0.2),\n",
    "            nn.ReLU(inplace=True),\n",
    "            nn.Linear(256, len(id2int))\n",
    "        )\n",
    "        self.loss_fn = nn.CrossEntropyLoss()\n",
    "\n",
    "    def forward(self, x):\n",
    "        return self.model(x)\n",
    "\n",
    "    def compute_metrics(self, preds, targets):\n",
    "        ce_loss = self.loss_fn(preds, targets)\n",
    "        acc = (torch.max(preds, 1)[1] == targets).float().mean()\n",
    "        return ce_loss, acc\n",
    "def train_batch(model, data, optimizer, criterion):\n",
    "    ims, labels = data\n",
    "    _preds = model(ims)\n",
    "    optimizer.zero_grad()\n",
    "    loss, acc = criterion(_preds, labels)\n",
    "    loss.backward()\n",
    "    optimizer.step()\n",
    "    return loss.item(), acc.item()\n",
    "\n",
    "@torch.no_grad()\n",
    "def validate_batch(model, data, criterion):\n",
    "    ims, labels = data\n",
    "    _preds = model(ims)\n",
    "    loss, acc = criterion(_preds, labels)\n",
    "    return loss.item(), acc.item()\n",
    "model = SignClassifier().to(device)\n",
    "criterion = model.compute_metrics\n",
    "optimizer = optim.Adam(model.parameters(), lr=1e-3)\n",
    "n_epochs = 40\n",
    "\n",
    "log = Report(n_epochs)\n",
    "for ex in range(n_epochs):\n",
    "    N = len(trn_dl)\n",
    "    for bx, data in enumerate(trn_dl):\n",
    "        loss, acc = train_batch(model, data, optimizer, criterion)\n",
    "        log.record(ex+(bx+1)/N, trn_loss=loss, trn_acc=acc, end='\\r')\n",
    "\n",
    "    N = len(val_dl)\n",
    "    for bx, data in enumerate(val_dl):\n",
    "        loss, acc = validate_batch(model, data, criterion)\n",
    "        log.record(ex+(bx+1)/N, val_loss=loss, val_acc=acc, end='\\r')\n",
    "        \n",
    "    log.report_avgs(ex+1)\n",
    "    if ex == 10: optimizer = optim.Adam(model.parameters(), lr=1e-4)\n",
    "\n",
    "log.plot_epochs()\n",
    "dumpdill(log, 'no-aug-yes-bn.log')"
   ]
  },
  {
   "cell_type": "markdown",
   "metadata": {},
   "source": [
    "## Run 3\n",
    "\n",
    "Augmentation = yes  \n",
    "Batch-Norm = yes  \n"
   ]
  },
  {
   "cell_type": "code",
   "execution_count": 10,
   "metadata": {
    "colab": {
     "base_uri": "https://localhost:8080/",
     "height": 743
    },
    "id": "tzJe_92X3wRG",
    "outputId": "3dc3ce9d-6e28-4924-ba1e-5664915e4a3c"
   },
   "outputs": [
    {
     "name": "stderr",
     "output_type": "stream",
     "text": [
      "2020-12-14 22:28:12.460 | INFO     | torch_snippets.loader:Glob:190 - 39209 files found at GTSRB/Final_Training/Images/*/*.ppm\n",
      "2020-12-14 22:28:12.472 | INFO     | __main__:__init__:46 - 29406\n",
      "2020-12-14 22:28:12.473 | INFO     | __main__:__init__:46 - 9803\n"
     ]
    },
    {
     "name": "stdout",
     "output_type": "stream",
     "text": [
      "EPOCH: 1.000\ttrn_loss: 1.847\ttrn_acc: 0.462\tval_loss: 0.777\tval_acc: 0.747\t(40.61s - 1583.91s remaining)\n",
      "EPOCH: 2.000\ttrn_loss: 0.692\ttrn_acc: 0.778\tval_loss: 0.481\tval_acc: 0.842\t(81.24s - 1543.64s remaining)\n",
      "EPOCH: 3.000\ttrn_loss: 0.498\ttrn_acc: 0.840\tval_loss: 0.381\tval_acc: 0.875\t(121.92s - 1503.74s remaining)\n",
      "EPOCH: 4.000\ttrn_loss: 0.403\ttrn_acc: 0.868\tval_loss: 0.349\tval_acc: 0.885\t(162.20s - 1459.77s remaining)\n",
      "EPOCH: 5.000\ttrn_loss: 0.339\ttrn_acc: 0.888\tval_loss: 0.280\tval_acc: 0.907\t(202.79s - 1419.51s remaining)\n",
      "EPOCH: 6.000\ttrn_loss: 0.309\ttrn_acc: 0.899\tval_loss: 0.237\tval_acc: 0.922\t(243.27s - 1378.54s remaining)\n",
      "EPOCH: 7.000\ttrn_loss: 0.278\ttrn_acc: 0.908\tval_loss: 0.234\tval_acc: 0.926\t(283.84s - 1338.12s remaining)\n",
      "EPOCH: 8.000\ttrn_loss: 0.251\ttrn_acc: 0.917\tval_loss: 0.198\tval_acc: 0.936\t(324.23s - 1296.91s remaining)\n",
      "EPOCH: 9.000\ttrn_loss: 0.229\ttrn_acc: 0.924\tval_loss: 0.199\tval_acc: 0.934\t(364.74s - 1256.34s remaining)\n",
      "EPOCH: 10.000\ttrn_loss: 0.216\ttrn_acc: 0.929\tval_loss: 0.185\tval_acc: 0.938\t(405.66s - 1216.97s remaining)\n",
      "EPOCH: 11.000\ttrn_loss: 0.197\ttrn_acc: 0.933\tval_loss: 0.163\tval_acc: 0.946\t(446.46s - 1177.04s remaining)\n",
      "EPOCH: 12.000\ttrn_loss: 0.149\ttrn_acc: 0.951\tval_loss: 0.128\tval_acc: 0.957\t(486.90s - 1136.10s remaining)\n",
      "EPOCH: 13.000\ttrn_loss: 0.126\ttrn_acc: 0.957\tval_loss: 0.113\tval_acc: 0.963\t(527.22s - 1095.00s remaining)\n",
      "EPOCH: 14.000\ttrn_loss: 0.122\ttrn_acc: 0.960\tval_loss: 0.111\tval_acc: 0.962\t(567.81s - 1054.50s remaining)\n",
      "EPOCH: 15.000\ttrn_loss: 0.116\ttrn_acc: 0.961\tval_loss: 0.104\tval_acc: 0.965\t(608.25s - 1013.75s remaining)\n",
      "EPOCH: 16.000\ttrn_loss: 0.107\ttrn_acc: 0.964\tval_loss: 0.105\tval_acc: 0.964\t(649.08s - 973.63s remaining)\n",
      "EPOCH: 17.000\ttrn_loss: 0.104\ttrn_acc: 0.965\tval_loss: 0.101\tval_acc: 0.968\t(689.78s - 933.23s remaining)\n",
      "EPOCH: 18.000\ttrn_loss: 0.101\ttrn_acc: 0.966\tval_loss: 0.106\tval_acc: 0.966\t(730.12s - 892.37s remaining)\n",
      "EPOCH: 19.000\ttrn_loss: 0.098\ttrn_acc: 0.966\tval_loss: 0.105\tval_acc: 0.968\t(770.72s - 851.85s remaining)\n",
      "EPOCH: 20.000\ttrn_loss: 0.096\ttrn_acc: 0.966\tval_loss: 0.089\tval_acc: 0.972\t(811.28s - 811.28s remaining)\n",
      "EPOCH: 21.000\ttrn_loss: 0.094\ttrn_acc: 0.968\tval_loss: 0.095\tval_acc: 0.968\t(851.91s - 770.77s remaining)\n",
      "EPOCH: 22.000\ttrn_loss: 0.089\ttrn_acc: 0.969\tval_loss: 0.093\tval_acc: 0.968\t(892.64s - 730.34s remaining)\n",
      "EPOCH: 23.000\ttrn_loss: 0.091\ttrn_acc: 0.969\tval_loss: 0.098\tval_acc: 0.967\t(933.26s - 689.80s remaining)\n",
      "EPOCH: 24.000\ttrn_loss: 0.086\ttrn_acc: 0.972\tval_loss: 0.092\tval_acc: 0.970\t(973.68s - 649.12s remaining)\n",
      "EPOCH: 25.000\ttrn_loss: 0.085\ttrn_acc: 0.971\tval_loss: 0.093\tval_acc: 0.968\t(1014.07s - 608.44s remaining)\n",
      "EPOCH: 26.000\ttrn_loss: 0.086\ttrn_acc: 0.971\tval_loss: 0.086\tval_acc: 0.969\t(1054.43s - 567.77s remaining)\n",
      "EPOCH: 27.000\ttrn_loss: 0.081\ttrn_acc: 0.972\tval_loss: 0.082\tval_acc: 0.972\t(1095.11s - 527.28s remaining)\n",
      "EPOCH: 28.000\ttrn_loss: 0.080\ttrn_acc: 0.973\tval_loss: 0.089\tval_acc: 0.971\t(1135.78s - 486.76s remaining)\n",
      "EPOCH: 29.000\ttrn_loss: 0.083\ttrn_acc: 0.971\tval_loss: 0.082\tval_acc: 0.971\t(1176.21s - 446.15s remaining)\n",
      "EPOCH: 30.000\ttrn_loss: 0.079\ttrn_acc: 0.973\tval_loss: 0.087\tval_acc: 0.970\t(1216.75s - 405.58s remaining)\n",
      "EPOCH: 31.000\ttrn_loss: 0.079\ttrn_acc: 0.973\tval_loss: 0.086\tval_acc: 0.971\t(1257.48s - 365.08s remaining)\n",
      "EPOCH: 32.000\ttrn_loss: 0.071\ttrn_acc: 0.975\tval_loss: 0.082\tval_acc: 0.972\t(1298.22s - 324.56s remaining)\n",
      "EPOCH: 33.000\ttrn_loss: 0.072\ttrn_acc: 0.975\tval_loss: 0.081\tval_acc: 0.973\t(1338.70s - 283.97s remaining)\n",
      "EPOCH: 34.000\ttrn_loss: 0.073\ttrn_acc: 0.975\tval_loss: 0.084\tval_acc: 0.973\t(1379.05s - 243.36s remaining)\n",
      "EPOCH: 35.000\ttrn_loss: 0.071\ttrn_acc: 0.976\tval_loss: 0.073\tval_acc: 0.976\t(1419.35s - 202.76s remaining)\n",
      "EPOCH: 36.000\ttrn_loss: 0.068\ttrn_acc: 0.976\tval_loss: 0.074\tval_acc: 0.975\t(1459.85s - 162.21s remaining)\n",
      "EPOCH: 37.000\ttrn_loss: 0.069\ttrn_acc: 0.976\tval_loss: 0.080\tval_acc: 0.974\t(1500.44s - 121.66s remaining)\n",
      "EPOCH: 38.000\ttrn_loss: 0.068\ttrn_acc: 0.978\tval_loss: 0.078\tval_acc: 0.974\t(1540.76s - 81.09s remaining)\n",
      "EPOCH: 39.000\ttrn_loss: 0.068\ttrn_acc: 0.977\tval_loss: 0.073\tval_acc: 0.976\t(1581.32s - 40.55s remaining)\n",
      "EPOCH: 39.964\tval_loss: 0.007\tval_acc: 1.000\t(1621.61s - 1.45s remaining))"
     ]
    },
    {
     "name": "stderr",
     "output_type": "stream",
     "text": [
      "  0%|          | 0/41 [00:00<?, ?it/s]"
     ]
    },
    {
     "name": "stdout",
     "output_type": "stream",
     "text": [
      "EPOCH: 40.000\ttrn_loss: 0.065\ttrn_acc: 0.978\tval_loss: 0.074\tval_acc: 0.976\t(1621.79s - 0.00s remaining)\n"
     ]
    },
    {
     "name": "stderr",
     "output_type": "stream",
     "text": [
      "/home/ec2-user/anaconda3/envs/pytorch_p36/lib/python3.6/site-packages/numpy/core/fromnumeric.py:3335: RuntimeWarning: Mean of empty slice.\n",
      "  out=out, **kwargs)\n",
      "/home/ec2-user/anaconda3/envs/pytorch_p36/lib/python3.6/site-packages/numpy/core/_methods.py:161: RuntimeWarning: invalid value encountered in double_scalars\n",
      "  ret = ret.dtype.type(ret / rcount)\n",
      "100%|██████████| 41/41 [00:00<00:00, 75.34it/s] \n"
     ]
    },
    {
     "data": {
      "image/png": "[encoded data removed]",
      "text/plain": [
       "<Figure size 576x432 with 1 Axes>"
      ]
     },
     "metadata": {
      "needs_background": "light"
     },
     "output_type": "display_data"
    },
    {
     "name": "stderr",
     "output_type": "stream",
     "text": [
      "2020-12-14 22:55:16.993 | INFO     | torch_snippets.loader:dumpdill:324 - Dumped object @ 40-yes-aug-yes-bn.log\n"
     ]
    },
    {
     "ename": "ModuleNotFoundError",
     "evalue": "No module named 'google.colab'",
     "output_type": "error",
     "traceback": [
      "\u001b[0;31m---------------------------------------------------------------------------\u001b[0m",
      "\u001b[0;31mModuleNotFoundError\u001b[0m                       Traceback (most recent call last)",
      "\u001b[0;32m<ipython-input-10-fc576751ef5c>\u001b[0m in \u001b[0;36m<module>\u001b[0;34m\u001b[0m\n\u001b[1;32m    150\u001b[0m \u001b[0mlog\u001b[0m\u001b[0;34m.\u001b[0m\u001b[0mplot_epochs\u001b[0m\u001b[0;34m(\u001b[0m\u001b[0;34m)\u001b[0m\u001b[0;34m\u001b[0m\u001b[0;34m\u001b[0m\u001b[0m\n\u001b[1;32m    151\u001b[0m \u001b[0mdumpdill\u001b[0m\u001b[0;34m(\u001b[0m\u001b[0mlog\u001b[0m\u001b[0;34m,\u001b[0m \u001b[0;34m'40-yes-aug-yes-bn.log'\u001b[0m\u001b[0;34m)\u001b[0m\u001b[0;34m\u001b[0m\u001b[0;34m\u001b[0m\u001b[0m\n\u001b[0;32m--> 152\u001b[0;31m \u001b[0;32mfrom\u001b[0m \u001b[0mgoogle\u001b[0m\u001b[0;34m.\u001b[0m\u001b[0mcolab\u001b[0m \u001b[0;32mimport\u001b[0m \u001b[0mfiles\u001b[0m\u001b[0;34m\u001b[0m\u001b[0;34m\u001b[0m\u001b[0m\n\u001b[0m\u001b[1;32m    153\u001b[0m \u001b[0mfiles\u001b[0m\u001b[0;34m.\u001b[0m\u001b[0mdownload\u001b[0m\u001b[0;34m(\u001b[0m\u001b[0;34m'40-yes-aug-yes-bn.log'\u001b[0m\u001b[0;34m)\u001b[0m\u001b[0;34m\u001b[0m\u001b[0;34m\u001b[0m\u001b[0m\n",
      "\u001b[0;31mModuleNotFoundError\u001b[0m: No module named 'google.colab'"
     ]
    }
   ],
   "source": [
    "from torch_snippets import *\n",
    "classIds = pd.read_csv('signnames.csv')\n",
    "classIds.set_index('ClassId', inplace=True)\n",
    "classIds = classIds.to_dict()['SignName']\n",
    "classIds = {f'{k:05d}':v for k,v in classIds.items()}\n",
    "id2int = {v:ix for ix,(k,v) in enumerate(classIds.items())}\n",
    "\n",
    "from torchvision import transforms as T\n",
    "classIds = pd.read_csv('signnames.csv')\n",
    "classIds.set_index('ClassId', inplace=True)\n",
    "classIds = classIds.to_dict()['SignName']\n",
    "classIds = {f'{k:05d}':v for k,v in classIds.items()}\n",
    "id2int = {v:ix for ix,(k,v) in enumerate(classIds.items())}\n",
    "\n",
    "from torchvision import transforms as T\n",
    "\n",
    "trn_tfms = T.Compose([\n",
    "    T.ToPILImage(),\n",
    "    T.Resize(32),\n",
    "    T.CenterCrop(32),\n",
    "    T.ColorJitter(brightness=(0.8,1.2), \n",
    "    contrast=(0.8,1.2), \n",
    "    saturation=(0.8,1.2), \n",
    "    hue=0.25),\n",
    "    T.RandomAffine(5, translate=(0.01,0.1)),\n",
    "    T.ToTensor(),\n",
    "    T.Normalize(mean=[0.485, 0.456, 0.406], \n",
    "                std=[0.229, 0.224, 0.225]),\n",
    "])\n",
    "\n",
    "val_tfms = T.Compose([\n",
    "    T.ToPILImage(),\n",
    "    T.Resize(32),\n",
    "    T.CenterCrop(32),\n",
    "    T.ToTensor(),\n",
    "    T.Normalize(mean=[0.485, 0.456, 0.406], \n",
    "                std=[0.229, 0.224, 0.225]),\n",
    "])\n",
    "\n",
    "class GTSRB(Dataset):\n",
    "    \"\"\"Face Landmarks dataset.\"\"\"\n",
    "\n",
    "    def __init__(self, files, transform=None):\n",
    "        self.files = files\n",
    "        self.transform = transform\n",
    "        logger.info(len(self))\n",
    "\n",
    "    def __len__(self):\n",
    "        return len(self.files)\n",
    "\n",
    "    def __getitem__(self, ix):\n",
    "        fpath = self.files[ix]\n",
    "        clss = fname(parent(fpath))\n",
    "        img = read(fpath, 1)\n",
    "        return img, classIds[clss]\n",
    "\n",
    "    def choose(self):\n",
    "        return self[randint(len(self))]\n",
    "\n",
    "    def collate_fn(self, batch):\n",
    "        imgs, classes = list(zip(*batch))\n",
    "        if self.transform:\n",
    "            imgs = [self.transform(img)[None] for img in imgs]\n",
    "        classes = [torch.tensor([id2int[clss]]) for clss in classes]\n",
    "        imgs, classes = [torch.cat(i).to(device) for i in [imgs, classes]]\n",
    "        return imgs, classes\n",
    "\n",
    "device = 'cuda' if torch.cuda.is_available() else 'cpu'\n",
    "all_files = Glob('GTSRB/Final_Training/Images/*/*.ppm')\n",
    "np.random.seed(10)\n",
    "np.random.shuffle(all_files)\n",
    "\n",
    "from sklearn.model_selection import train_test_split\n",
    "trn_files, val_files = train_test_split(all_files, random_state=1)\n",
    "\n",
    "trn_ds = GTSRB(trn_files, transform=trn_tfms)\n",
    "val_ds = GTSRB(val_files, transform=val_tfms)\n",
    "trn_dl = DataLoader(trn_ds, 32, shuffle=True, collate_fn=trn_ds.collate_fn)\n",
    "val_dl = DataLoader(val_ds, 32, shuffle=False, collate_fn=val_ds.collate_fn)\n",
    "\n",
    "import torchvision.models as models\n",
    "\n",
    "def convBlock(ni, no):\n",
    "    return nn.Sequential(\n",
    "        nn.Dropout(0.2),\n",
    "        nn.Conv2d(ni, no, kernel_size=3, padding=1),\n",
    "        nn.ReLU(inplace=True),\n",
    "        nn.BatchNorm2d(no),\n",
    "        nn.MaxPool2d(2),\n",
    "    )\n",
    "    \n",
    "class SignClassifier(nn.Module):\n",
    "    def __init__(self):\n",
    "        super().__init__()\n",
    "        self.model = nn.Sequential(\n",
    "            convBlock(3, 64),\n",
    "            convBlock(64, 64),\n",
    "            convBlock(64, 128),\n",
    "            convBlock(128, 64),\n",
    "            nn.Flatten(),\n",
    "            nn.Linear(256, 256),\n",
    "            nn.Dropout(0.2),\n",
    "            nn.ReLU(inplace=True),\n",
    "            nn.Linear(256, len(id2int))\n",
    "        )\n",
    "        self.loss_fn = nn.CrossEntropyLoss()\n",
    "\n",
    "    def forward(self, x):\n",
    "        return self.model(x)\n",
    "\n",
    "    def compute_metrics(self, preds, targets):\n",
    "        ce_loss = self.loss_fn(preds, targets)\n",
    "        acc = (torch.max(preds, 1)[1] == targets).float().mean()\n",
    "        return ce_loss, acc\n",
    "def train_batch(model, data, optimizer, criterion):\n",
    "    ims, labels = data\n",
    "    _preds = model(ims)\n",
    "    optimizer.zero_grad()\n",
    "    loss, acc = criterion(_preds, labels)\n",
    "    loss.backward()\n",
    "    optimizer.step()\n",
    "    return loss.item(), acc.item()\n",
    "\n",
    "@torch.no_grad()\n",
    "def validate_batch(model, data, criterion):\n",
    "    ims, labels = data\n",
    "    _preds = model(ims)\n",
    "    loss, acc = criterion(_preds, labels)\n",
    "    return loss.item(), acc.item()\n",
    "model = SignClassifier().to(device)\n",
    "criterion = model.compute_metrics\n",
    "optimizer = optim.Adam(model.parameters(), lr=1e-3)\n",
    "n_epochs = 40\n",
    "\n",
    "log = Report(n_epochs)\n",
    "for ex in range(n_epochs):\n",
    "    N = len(trn_dl)\n",
    "    for bx, data in enumerate(trn_dl):\n",
    "        loss, acc = train_batch(model, data, optimizer, criterion)\n",
    "        log.record(ex+(bx+1)/N, trn_loss=loss, trn_acc=acc, end='\\r')\n",
    "\n",
    "    N = len(val_dl)\n",
    "    for bx, data in enumerate(val_dl):\n",
    "        loss, acc = validate_batch(model, data, criterion)\n",
    "        log.record(ex+(bx+1)/N, val_loss=loss, val_acc=acc, end='\\r')\n",
    "        \n",
    "    log.report_avgs(ex+1)\n",
    "    if ex == 10: optimizer = optim.Adam(model.parameters(), lr=1e-4)\n",
    "\n",
    "log.plot_epochs()\n",
    "dumpdill(log, '40-yes-aug-yes-bn.log')\n",
    "from google.colab import files\n",
    "files.download('40-yes-aug-yes-bn.log')"
   ]
  },
  {
   "cell_type": "code",
   "execution_count": 1,
   "metadata": {
    "colab": {
     "base_uri": "https://localhost:8080/",
     "height": 1000
    },
    "id": "NoJtmoBZ3y12",
    "outputId": "e67404e4-033f-45ce-e44c-f66ef2afd8e1"
   },
   "outputs": [
    {
     "ename": "NameError",
     "evalue": "name 'Glob' is not defined",
     "output_type": "error",
     "traceback": [
      "\u001b[0;31m---------------------------------------------------------------------------\u001b[0m",
      "\u001b[0;31mNameError\u001b[0m                                 Traceback (most recent call last)",
      "\u001b[0;32m<ipython-input-1-60543a68b060>\u001b[0m in \u001b[0;36m<module>\u001b[0;34m\u001b[0m\n\u001b[0;32m----> 1\u001b[0;31m \u001b[0;32mfor\u001b[0m \u001b[0mf\u001b[0m \u001b[0;32min\u001b[0m \u001b[0mGlob\u001b[0m\u001b[0;34m(\u001b[0m\u001b[0;34m'*.log'\u001b[0m\u001b[0;34m)\u001b[0m\u001b[0;34m:\u001b[0m\u001b[0;34m\u001b[0m\u001b[0;34m\u001b[0m\u001b[0m\n\u001b[0m\u001b[1;32m      2\u001b[0m     \u001b[0mlog\u001b[0m \u001b[0;34m=\u001b[0m \u001b[0mloaddill\u001b[0m\u001b[0;34m(\u001b[0m\u001b[0mf\u001b[0m\u001b[0;34m)\u001b[0m\u001b[0;34m\u001b[0m\u001b[0;34m\u001b[0m\u001b[0m\n\u001b[1;32m      3\u001b[0m     \u001b[0mprint\u001b[0m\u001b[0;34m(\u001b[0m\u001b[0;34m)\u001b[0m\u001b[0;34m\u001b[0m\u001b[0;34m\u001b[0m\u001b[0m\n\u001b[1;32m      4\u001b[0m     \u001b[0mlog\u001b[0m\u001b[0;34m.\u001b[0m\u001b[0mreport_avgs\u001b[0m\u001b[0;34m(\u001b[0m\u001b[0;36m20\u001b[0m\u001b[0;34m)\u001b[0m\u001b[0;34m\u001b[0m\u001b[0;34m\u001b[0m\u001b[0m\n\u001b[1;32m      5\u001b[0m     \u001b[0mlog\u001b[0m\u001b[0;34m.\u001b[0m\u001b[0mplot_epochs\u001b[0m\u001b[0;34m(\u001b[0m\u001b[0;34m[\u001b[0m\u001b[0;34m'trn_acc'\u001b[0m\u001b[0;34m,\u001b[0m \u001b[0;34m'val_acc'\u001b[0m\u001b[0;34m]\u001b[0m\u001b[0;34m,\u001b[0m \u001b[0mtitle\u001b[0m\u001b[0;34m=\u001b[0m\u001b[0mf\u001b[0m\u001b[0;34m.\u001b[0m\u001b[0mreplace\u001b[0m\u001b[0;34m(\u001b[0m\u001b[0;34m','\u001b[0m\u001b[0;34m,\u001b[0m\u001b[0;34m'\\n'\u001b[0m\u001b[0;34m)\u001b[0m\u001b[0;34m.\u001b[0m\u001b[0mreplace\u001b[0m\u001b[0;34m(\u001b[0m\u001b[0;34m'.log'\u001b[0m\u001b[0;34m,\u001b[0m\u001b[0;34m''\u001b[0m\u001b[0;34m)\u001b[0m\u001b[0;34m)\u001b[0m\u001b[0;34m\u001b[0m\u001b[0;34m\u001b[0m\u001b[0m\n",
      "\u001b[0;31mNameError\u001b[0m: name 'Glob' is not defined"
     ]
    }
   ],
   "source": [
    "for f in Glob('*.log'):\n",
    "    log = loaddill(f)\n",
    "    print()\n",
    "    log.report_avgs(20)\n",
    "    log.plot_epochs(['trn_acc', 'val_acc'], title=f.replace(',','\\n').replace('.log',''))\n",
    "    print()\n",
    "    line()"
   ]
  },
  {
   "cell_type": "code",
   "execution_count": null,
   "metadata": {
    "id": "6lObvfj4Z3Zw"
   },
   "outputs": [],
   "source": []
  }
 ],
 "metadata": {
  "accelerator": "GPU",
  "colab": {
   "authorship_tag": "ABX9TyPRgIcco9JLw0/MN/P+LT1O",
   "collapsed_sections": [],
   "include_colab_link": true,
   "name": "Road_sign_detection.ipynb",
   "provenance": []
  },
  "kernelspec": {
   "display_name": "conda_pytorch_p36",
   "language": "python",
   "name": "conda_pytorch_p36"
  },
  "language_info": {
   "codemirror_mode": {
    "name": "ipython",
    "version": 3
   },
   "file_extension": ".py",
   "mimetype": "text/x-python",
   "name": "python",
   "nbconvert_exporter": "python",
   "pygments_lexer": "ipython3",
   "version": "3.6.10"
  }
 },
 "nbformat": 4,
 "nbformat_minor": 1
}
